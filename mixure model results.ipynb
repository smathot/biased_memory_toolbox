{
 "cells": [
  {
   "cell_type": "markdown",
   "metadata": {},
   "source": [
    "# Biased Memory Toolbox (example)\n",
    "\n",
    "First import all relevant libraries."
   ]
  },
  {
   "cell_type": "code",
   "execution_count": 1,
   "metadata": {},
   "outputs": [],
   "source": [
    "import biased_memory_toolbox as bmt\n",
    "from datamatrix import io, operations as ops, DataMatrix\n",
    "import numpy as np\n",
    "from matplotlib import pyplot as plt"
   ]
  },
  {
   "cell_type": "markdown",
   "metadata": {},
   "source": [
    "Read in a data file as a DataMatrix. There should be a column that contains\n",
    "the memoranda (here: `hue1`) and a column that contains the responses (here:\n",
    "`hue_response`), both in degrees with values between 0 and 360.\n",
    "\n",
    "Next, we use the `response_bias()` function from `biased_memory_toolbox`\n",
    "(imported as `bmt`) to calculate the `response bias`, which is the response\n",
    "error in the direction of the category prototype. We use the default categories\n",
    "as defined in the toolbox."
   ]
  },
  {
   "cell_type": "code",
   "execution_count": 2,
   "metadata": {},
   "outputs": [],
   "source": [
    "dm = io.readtxt('data_setsize.csv')\n",
    "dm.response_bias = bmt.response_bias(\n",
    "    dm.hue1,\n",
    "    dm.hue_response,\n",
    "    bmt.DEFAULT_CATEGORIES\n",
    ")"
   ]
  },
  {
   "cell_type": "markdown",
   "metadata": {},
   "source": [
    "Next, we loop through all participants, and for each participant separately\n",
    "fit a mixture model to `response_bias`, resulting in a precision, guess rate,\n",
    "and bias. This is done with `bmt.fit_mixture_model()`.\n",
    "\n",
    "We also check whether participants responded above chance. This is done by\n",
    "`bmt.test_chance_performance()`."
   ]
  },
  {
   "cell_type": "code",
   "execution_count": 3,
   "metadata": {},
   "outputs": [
    {
     "data": {
      "image/png": "[encoded data removed]",
      "text/plain": [
       "<Figure size 432x288 with 1 Axes>"
      ]
     },
     "metadata": {
      "needs_background": "light"
     },
     "output_type": "display_data"
    }
   ],
   "source": [
    "# Initialize an empty DataMatrix that will contain the fit results for each\n",
    "# participant.\n",
    "sm = DataMatrix(dm.sessionid.count)\n",
    "sm.precision1 = -1\n",
    "sm.guess_rate1 = -1\n",
    "sm.bias1 = -1\n",
    "sm.precision2 = -1\n",
    "sm.guess_rate2 = -1\n",
    "sm.bias2 = -1\n",
    "sm.precision3 = -1\n",
    "sm.guess_rate3 = -1\n",
    "sm.bias3 = -1\n",
    "sm.precision4 = -1\n",
    "sm.guess_rate4 = -1\n",
    "sm.bias4 = -1\n",
    "sm.sessionid = -1\n",
    "sm.p_chance = -1\n",
    "\n",
    "# Intialize a plot that will contain the fits for individual participants.\n",
    "plt.xlim(-75, 75)\n",
    "plt.xlabel('Error towards prototype (deg)')\n",
    "plt.ylabel('Probability')\n",
    "plt.axvline(0, color='black', linestyle=':')\n",
    "plt.axhline(0, color='black', linestyle=':')\n",
    "# Split the DataMatrix (dm) based on session id, such that we loop through the\n",
    "# data for each participant separately (as sdm).\n",
    "for row, (sessionid, sdm) in zip(sm, ops.split(dm.sessionid)):\n",
    "    row.sessionid = sessionid\n",
    "    sdm1, sdm2, sdm3, sdm4 = ops.split(sdm.set_size, 1, 2, 3, 4)\n",
    "    # Fit the mixture model and assign the parameters to the row of `sm`.\n",
    "    row.precision1, row.guess_rate1, row.bias1 = bmt.fit_mixture_model(sdm1.response_bias)\n",
    "    row.precision2, row.guess_rate2, row.bias2 = bmt.fit_mixture_model(sdm2.response_bias)\n",
    "    row.precision3, row.guess_rate3, row.bias3 = bmt.fit_mixture_model(sdm3.response_bias)\n",
    "    row.precision4, row.guess_rate4, row.bias4 = bmt.fit_mixture_model(sdm4.response_bias)\n",
    "    # Test chance performance. The first return value is the t value, which we\n",
    "    # don't use. The second return value is the p value, which we assign to\n",
    "    # the row of `sm`.\n",
    "    _, row.p_chance = bmt.test_chance_performance(\n",
    "        sdm.hue1,\n",
    "        sdm.hue_response    \n",
    "    )\n",
    "    # Plot the model results for the participant.\n",
    "#     x = np.linspace(-180, 180, 100)\n",
    "#     y = bmt.mixture_model_pdf(x, row.precision, row.guess_rate, row.bias)\n",
    "#     plt.plot(x, y)\n",
    "io.writetxt(sm, 'mixture-model-results.csv')"
   ]
  },
  {
   "cell_type": "markdown",
   "metadata": {},
   "source": [
    "Show the results!"
   ]
  },
  {
   "cell_type": "code",
   "execution_count": 4,
   "metadata": {},
   "outputs": [
    {
     "data": {
      "text/html": [
       "<table><tr><th>bias1</th><th>bias2</th><th>bias3</th><th>bias4</th><th>guess_rate1</th><th>guess_rate2</th><th>guess_rate3</th><th>guess_rate4</th><th>p_chance</th><th>precision1</th><th>precision2</th><th>precision3</th><th>precision4</th><th>sessionid</th></tr><tr><td>-0.9460672628557069</td><td>8.269510679348883</td><td>8.60046859545253</td><td>12.70820739575051</td><td>0.04686988313979881</td><td>0</td><td>0.08047566600147749</td><td>0.004591074490522881</td><td>1.15235450212522e-61</td><td>2818.0039879838437</td><td>303.95336969321704</td><td>792.0089372980393</td><td>247.24183281089614</td><td>1585729859935</td></tr><tr><td>2.1287311575298147</td><td>7.920521773949314</td><td>1.7187828815733273</td><td>12.263514231340062</td><td>0.09419266051873641</td><td>0.10416348439631501</td><td>0</td><td>0.25412892379769103</td><td>1.6844353726643432e-43</td><td>1816.8507064666069</td><td>636.0631377118656</td><td>308.6897516429187</td><td>499.8635181657669</td><td>1585737073858</td></tr><tr><td>-3.486473628365824</td><td>1.53505017254622</td><td>2.1056420290153275</td><td>4.552434316414197</td><td>0</td><td>0</td><td>0</td><td>0</td><td>1.8132274494923184e-37</td><td>1240.3025931831305</td><td>575.5892052365897</td><td>380.85122927103663</td><td>400.04181205953495</td><td>1585743098923</td></tr><tr><td>1.08740943596384</td><td>6.130702645733555</td><td>4.4401626008608375</td><td>2.032465687166815</td><td>0</td><td>0</td><td>0.32480680927187094</td><td>0.18360881968470324</td><td>1.8725100924047852e-18</td><td>2691.9262065360167</td><td>376.45050495273784</td><td>1357.9643388037896</td><td>695.7421589186594</td><td>1585913928047</td></tr><tr><td>-0.029247406581851838</td><td>-3.096582550063124</td><td>-1.0304132093795426</td><td>-5.179268347504918</td><td>0.2729407653712122</td><td>0.5090219691336528</td><td>0.34172735535698257</td><td>0.6412228785720548</td><td>2.738840275550518e-15</td><td>1447.6656549132927</td><td>1526.4934786701147</td><td>1008.8034875041718</td><td>2514.3069758135894</td><td>1586163908761</td></tr><tr><td>-1.7571624804676333</td><td>-0.22955146607847113</td><td>3.4986886663431567</td><td>7.636425084543199</td><td>0</td><td>0.0777551155287242</td><td>0.20972555608397006</td><td>0.11457597916726835</td><td>1.075540233768709e-40</td><td>687.1094378577098</td><td>616.3738979052712</td><td>660.561068534246</td><td>529.2064420569184</td><td>1586166725331</td></tr><tr><td>0.8746670569026826</td><td>0.006222856816050209</td><td>3.399324659775108</td><td>5.326798689570843</td><td>0.05971785469869258</td><td>0.05442785130377287</td><td>0.2924791707449179</td><td>0.08274812401169025</td><td>5.122246791790861e-46</td><td>2505.3968895061466</td><td>620.4035180161517</td><td>2409.4845286883547</td><td>548.0953476372077</td><td>1586171754629</td></tr><tr><td>0.5663179628019479</td><td>14.6810202417274</td><td>-4.225196861332582</td><td>6.211231071026694</td><td>0.5515082388154552</td><td>0.7555215668031879</td><td>0.6466223256462097</td><td>0.7663071413343426</td><td>1.0721666186313733e-09</td><td>1153.6141516718385</td><td>1920.8866507828557</td><td>2361.428891393091</td><td>2575.069799191468</td><td>1586195085500</td></tr><tr><td>-2.3396162485921916</td><td>0.4746341395455651</td><td>1.4462827384316532</td><td>8.843309584192268</td><td>0</td><td>0.0690148346779106</td><td>0</td><td>0.09734683776372974</td><td>2.5397826889815906e-31</td><td>1976.980933184316</td><td>1555.4119007475404</td><td>655.940116591561</td><td>865.3256866428684</td><td>1586254696064</td></tr><tr><td>-2.2860648084644986</td><td>2.287547011347218</td><td>7.019451245089631</td><td>3.750169165296238</td><td>0.0630986034148379</td><td>0.2266670360493615</td><td>0.09356408522548172</td><td>0.17111747169150934</td><td>7.480807291060992e-52</td><td>1531.6564315826047</td><td>821.8492903262755</td><td>500.12931663758707</td><td>754.6876822569744</td><td>1586265521442</td></tr><tr><td>-2.455692104723209</td><td>1.5500306059079156</td><td>0.3379141837060368</td><td>5.88601865555773</td><td>0.019687423602484364</td><td>0</td><td>0.04607210493470924</td><td>0.030192072783701816</td><td>8.720678080324609e-63</td><td>1359.5600726072776</td><td>918.2646769103399</td><td>1411.6377106270006</td><td>408.7153978689891</td><td>1586515593237</td></tr><tr><td>0.5695897286366514</td><td>-6.7442767839783135</td><td>-3.431463231078296</td><td>1.1643331334751572</td><td>0.15256613313733416</td><td>0.1602393475925817</td><td>0.299467075505859</td><td>0.43272961482265504</td><td>1.2727926922220691e-33</td><td>927.0655490708094</td><td>779.0180660932945</td><td>538.6339352375244</td><td>303.18508281097183</td><td>1586518216906</td></tr><tr><td>2.4556437651604033</td><td>3.033349331769335</td><td>5.056550744877904</td><td>17.787530765130754</td><td>0.08330040212306068</td><td>0.28270658125048675</td><td>0.5200702765756405</td><td>0.3555655425034416</td><td>7.047021238931172e-25</td><td>1068.4820028862619</td><td>745.6662743430562</td><td>432.0478910490446</td><td>120.25258598617384</td><td>1586520802962</td></tr><tr><td>0.5862640264909769</td><td>0.9616506581672347</td><td>1.7037447867698592</td><td>6.058168464658356</td><td>0</td><td>0</td><td>0</td><td>0.05569252319561108</td><td>1.8574247458089126e-61</td><td>1275.154743572734</td><td>888.4275131281154</td><td>513.6208351854588</td><td>545.5356753048908</td><td>1586771472020</td></tr><tr><td>0.45130084179699304</td><td>4.585625219781761</td><td>7.009511849518274</td><td>8.135326492367357</td><td>0</td><td>0</td><td>0</td><td>0</td><td>1.9755173661010258e-42</td><td>1916.4311657061064</td><td>559.972589657446</td><td>787.9755279635235</td><td>518.440112205058</td><td>1586791777827</td></tr><tr><td>-1.2798443807095663</td><td>1.1261161565857274</td><td>11.582182304905476</td><td>8.776565286120064</td><td>0.38108212530217334</td><td>0.5470008870155871</td><td>0.896469908036398</td><td>0.8260224238599635</td><td>6.447800561939889e-06</td><td>954.3288605080123</td><td>919.0524272699504</td><td>6487.354043987219</td><td>499.819326223199</td><td>1586854210644</td></tr><tr><td>-3.3937327827319974</td><td>2.3244566054496225</td><td>-0.7587752142141737</td><td>2.870695177857625</td><td>0.040336537844338466</td><td>0.06375525638564247</td><td>0</td><td>0</td><td>1.292615514517148e-40</td><td>2190.113592821132</td><td>646.6207401579163</td><td>760.0614721245108</td><td>520.007677210776</td><td>1586860881490</td></tr><tr><td>1.0006026120797857</td><td>5.973999303323422</td><td>2.8389529312415993</td><td>6.4817791605801265</td><td>0.021868794306365746</td><td>0</td><td>0</td><td>0.09114405391637087</td><td>1.3905575218398253e-63</td><td>3026.042827772932</td><td>600.6552950398979</td><td>1493.6003440259894</td><td>753.5815912207365</td><td>1586865809865</td></tr><tr><td>-2.5340318480289517</td><td>-4.257706722040089</td><td>3.708908660086638</td><td>-2.84940391505544</td><td>0.04968845583841343</td><td>0.2435513484598874</td><td>0.3347553096097941</td><td>0.2558977604834885</td><td>4.25816609482474e-32</td><td>1209.344936423845</td><td>463.77680318147856</td><td>499.95833372048344</td><td>895.029091422641</td><td>1587908370677</td></tr><tr><td>1.949838697867417</td><td>3.5834554779109045</td><td>7.047063120816362</td><td>3.9342023164596025</td><td>0</td><td>0.04807024338654839</td><td>0.1471579704536595</td><td>0.07838503633424604</td><td>7.455092616661832e-48</td><td>789.6319057087276</td><td>419.5446912323666</td><td>500.0371324930855</td><td>533.7854766975378</td><td>1589097021204</td></tr><tr><td>1.6837701322317595</td><td>6.395755893334306</td><td>9.147976146305778</td><td>3.823680407191387</td><td>0.09166743617486853</td><td>0.02422080393819705</td><td>0.14893418600227246</td><td>0.1684020740439366</td><td>1.4856297710542666e-39</td><td>865.5705401291128</td><td>574.8378110259868</td><td>661.8433709415949</td><td>906.7102256044845</td><td>1589357997466</td></tr><tr><td>-0.15494873864725037</td><td>1.4764808250449144</td><td>-4.978639214752613</td><td>5.599557631946516</td><td>0.07978542922499719</td><td>0.10452671272371092</td><td>0.31156032054501737</td><td>0.3406244361848401</td><td>3.5656335282645324e-29</td><td>336.1898244759562</td><td>164.57290074101397</td><td>338.4537555322903</td><td>271.7702405528839</td><td>1589358431551</td></tr><tr><td>1.368635258548518</td><td>5.0813126250238225</td><td>7.472888630534596</td><td>7.045047346614335</td><td>0</td><td>0.10056816672694466</td><td>0</td><td>0.011065259916197827</td><td>1.0968663979255237e-64</td><td>1817.0369475533278</td><td>1420.6659490387497</td><td>620.7968700376591</td><td>711.55339791862</td><td>1589367650944</td></tr></table>"
      ],
      "text/plain": [
       "DataMatrix[36, 0x23db5ca7978]\n",
       "+----+-----------------------+----------------------+---------------------+--------------------+----------------------+---------------------+\n",
       "| #  |         bias1         |        bias2         |        bias3        |       bias4        |     guess_rate1      |     guess_rate2     |\n",
       "+----+-----------------------+----------------------+---------------------+--------------------+----------------------+---------------------+\n",
       "| 0  |  -0.9460672628557069  |  8.269510679348883   |   8.60046859545253  | 12.70820739575051  | 0.04686988313979881  |          0          |\n",
       "| 1  |   2.1287311575298147  |  7.920521773949314   |  1.7187828815733273 | 12.263514231340062 | 0.09419266051873641  | 0.10416348439631501 |\n",
       "| 2  |   -3.486473628365824  |   1.53505017254622   |  2.1056420290153275 | 4.552434316414197  |          0           |          0          |\n",
       "| 3  |    1.08740943596384   |  6.130702645733555   |  4.4401626008608375 | 2.032465687166815  |          0           |          0          |\n",
       "| 4  | -0.029247406581851838 |  -3.096582550063124  | -1.0304132093795426 | -5.179268347504918 |  0.2729407653712122  |  0.5090219691336528 |\n",
       "| 5  |  -1.7571624804676333  | -0.22955146607847113 |  3.4986886663431567 | 7.636425084543199  |          0           |  0.0777551155287242 |\n",
       "| 6  |   0.8746670569026826  | 0.006222856816050209 |  3.399324659775108  | 5.326798689570843  | 0.05971785469869258  | 0.05442785130377287 |\n",
       "| 7  |   0.5663179628019479  |   14.6810202417274   |  -4.225196861332582 | 6.211231071026694  |  0.5515082388154552  |  0.7555215668031879 |\n",
       "| 8  |  -2.3396162485921916  |  0.4746341395455651  |  1.4462827384316532 | 8.843309584192268  |          0           |  0.0690148346779106 |\n",
       "| 9  |  -2.2860648084644986  |  2.287547011347218   |  7.019451245089631  | 3.750169165296238  |  0.0630986034148379  |  0.2266670360493615 |\n",
       "| 10 |   -2.455692104723209  |  1.5500306059079156  |  0.3379141837060368 |  5.88601865555773  | 0.019687423602484364 |          0          |\n",
       "| 11 |   0.5695897286366514  | -6.7442767839783135  |  -3.431463231078296 | 1.1643331334751572 | 0.15256613313733416  |  0.1602393475925817 |\n",
       "| 12 |   2.4556437651604033  |  3.033349331769335   |  5.056550744877904  | 17.787530765130754 | 0.08330040212306068  | 0.28270658125048675 |\n",
       "| 13 |   0.5862640264909769  |  0.9616506581672347  |  1.7037447867698592 | 6.058168464658356  |          0           |          0          |\n",
       "| 14 |  0.45130084179699304  |  4.585625219781761   |  7.009511849518274  | 8.135326492367357  |          0           |          0          |\n",
       "| 15 |  -1.2798443807095663  |  1.1261161565857274  |  11.582182304905476 | 8.776565286120064  | 0.38108212530217334  |  0.5470008870155871 |\n",
       "| 16 |  -3.3937327827319974  |  2.3244566054496225  | -0.7587752142141737 | 2.870695177857625  | 0.040336537844338466 | 0.06375525638564247 |\n",
       "| 17 |   1.0006026120797857  |  5.973999303323422   |  2.8389529312415993 | 6.4817791605801265 | 0.021868794306365746 |          0          |\n",
       "| 18 |  -2.5340318480289517  |  -4.257706722040089  |  3.708908660086638  | -2.84940391505544  | 0.04968845583841343  |  0.2435513484598874 |\n",
       "| 19 |   1.949838697867417   |  3.5834554779109045  |  7.047063120816362  | 3.9342023164596025 |          0           | 0.04807024338654839 |\n",
       "+----+-----------------------+----------------------+---------------------+--------------------+----------------------+---------------------+\n",
       "(+ 9 columns not shown)\n",
       "(+ 3 rows not shown)"
      ]
     },
     "execution_count": 4,
     "metadata": {},
     "output_type": "execute_result"
    }
   ],
   "source": [
    "sm"
   ]
  }
 ],
 "metadata": {
  "kernelspec": {
   "display_name": "Python 3",
   "language": "python",
   "name": "python3"
  },
  "language_info": {
   "codemirror_mode": {
    "name": "ipython",
    "version": 3
   },
   "file_extension": ".py",
   "mimetype": "text/x-python",
   "name": "python",
   "nbconvert_exporter": "python",
   "pygments_lexer": "ipython3",
   "version": "3.7.3"
  }
 },
 "nbformat": 4,
 "nbformat_minor": 4
}
